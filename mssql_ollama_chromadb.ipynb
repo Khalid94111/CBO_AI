{
 "cells": [
  {
   "cell_type": "markdown",
   "id": "f09083cb-7552-50ca-95aa-c4b2ce5e737a",
   "metadata": {
    "id": "f09083cb-7552-50ca-95aa-c4b2ce5e737a"
   },
   "source": [
    "# Generating SQL for Microsoft SQL Server using Ollama, ChromaDB\n",
    "This notebook runs through the process of using the `vanna` Python package to generate SQL using AI (RAG + LLMs) including connecting to a database and training. If you're not ready to train on your own database, you can still try it using a sample [SQLite database](app.md)."
   ]
  },
  {
   "cell_type": "markdown",
   "id": "d19eb56a-cb9d-5c5f-bb6b-d0c784c01030",
   "metadata": {
    "id": "d19eb56a-cb9d-5c5f-bb6b-d0c784c01030"
   },
   "source": [
    "\n",
    "<h3 class=\"mb-5 text-lg font-medium text-gray-900 dark:text-white\">Which LLM do you want to use?</h3>\n",
    "<ul class=\"grid w-full gap-6 md:grid-cols-2\">\n",
    "    \n",
    "  <li>\n",
    "    <a href=\"../mssql-openai-vanna-vannadb/\" class=\"inline-flex w-full cursor-pointer items-center justify-between rounded-lg border border-gray-200 bg-white p-5 text-gray-500 hover:bg-gray-100 hover:text-gray-600 peer-checked:border-blue-600 peer-checked:text-blue-600 dark:border-gray-700 dark:bg-gray-800 dark:text-gray-400 dark:hover:bg-gray-700 dark:hover:text-gray-300 dark:peer-checked:text-blue-500\">\n",
    "      <div class=\"block\">\n",
    "        <div class=\"w-full text-lg font-semibold\">OpenAI via Vanna.AI (Recommended)</div>\n",
    "        <small class=\"w-full\">Use Vanna.AI for free to generate your queries</small>\n",
    "      </div>\n",
    "    </a>\n",
    "  </li>\n",
    "    \n",
    "  <li>\n",
    "    <a href=\"../mssql-openai-standard-chromadb/\" class=\"inline-flex w-full cursor-pointer items-center justify-between rounded-lg border border-gray-200 bg-white p-5 text-gray-500 hover:bg-gray-100 hover:text-gray-600 peer-checked:border-blue-600 peer-checked:text-blue-600 dark:border-gray-700 dark:bg-gray-800 dark:text-gray-400 dark:hover:bg-gray-700 dark:hover:text-gray-300 dark:peer-checked:text-blue-500\">\n",
    "      <div class=\"block\">\n",
    "        <div class=\"w-full text-lg font-semibold\">OpenAI</div>\n",
    "        <small class=\"w-full\">Use OpenAI with your own API key</small>\n",
    "      </div>\n",
    "    </a>\n",
    "  </li>\n",
    "    \n",
    "  <li>\n",
    "    <a href=\"../mssql-openai-azure-chromadb/\" class=\"inline-flex w-full cursor-pointer items-center justify-between rounded-lg border border-gray-200 bg-white p-5 text-gray-500 hover:bg-gray-100 hover:text-gray-600 peer-checked:border-blue-600 peer-checked:text-blue-600 dark:border-gray-700 dark:bg-gray-800 dark:text-gray-400 dark:hover:bg-gray-700 dark:hover:text-gray-300 dark:peer-checked:text-blue-500\">\n",
    "      <div class=\"block\">\n",
    "        <div class=\"w-full text-lg font-semibold\">Azure OpenAI</div>\n",
    "        <small class=\"w-full\">If you have OpenAI models deployed on Azure</small>\n",
    "      </div>\n",
    "    </a>\n",
    "  </li>\n",
    "    \n",
    "  <li>\n",
    "    <a href=\"../mssql-anthropic-chromadb/\" class=\"inline-flex w-full cursor-pointer items-center justify-between rounded-lg border border-gray-200 bg-white p-5 text-gray-500 hover:bg-gray-100 hover:text-gray-600 peer-checked:border-blue-600 peer-checked:text-blue-600 dark:border-gray-700 dark:bg-gray-800 dark:text-gray-400 dark:hover:bg-gray-700 dark:hover:text-gray-300 dark:peer-checked:text-blue-500\">\n",
    "      <div class=\"block\">\n",
    "        <div class=\"w-full text-lg font-semibold\">Anthropic</div>\n",
    "        <small class=\"w-full\">Use Anthropics Claude with your Anthropic API Key</small>\n",
    "      </div>\n",
    "    </a>\n",
    "  </li>\n",
    "    \n",
    "  <li>\n",
    "    <span class=\"inline-flex w-full cursor-pointer items-center justify-between rounded-lg border bg-white p-5 border-blue-600 text-blue-600 dark:bg-gray-800 dark:text-blue-500\">\n",
    "      <div class=\"block\">\n",
    "        <div class=\"w-full text-lg font-semibold\"><span class=\"hidden\">[Selected]</span> Ollama</div>\n",
    "        <small class=\"w-full\">Use Ollama locally for free. Requires additional setup.</small>\n",
    "      </div>\n",
    "    </span>\n",
    "  </li>\n",
    "  \n",
    "  <li>\n",
    "    <a href=\"../mssql-gemini-chromadb/\" class=\"inline-flex w-full cursor-pointer items-center justify-between rounded-lg border border-gray-200 bg-white p-5 text-gray-500 hover:bg-gray-100 hover:text-gray-600 peer-checked:border-blue-600 peer-checked:text-blue-600 dark:border-gray-700 dark:bg-gray-800 dark:text-gray-400 dark:hover:bg-gray-700 dark:hover:text-gray-300 dark:peer-checked:text-blue-500\">\n",
    "      <div class=\"block\">\n",
    "        <div class=\"w-full text-lg font-semibold\">Google Gemini</div>\n",
    "        <small class=\"w-full\">Use Google Gemini with your Gemini or Vertex API Key</small>\n",
    "      </div>\n",
    "    </a>\n",
    "  </li>\n",
    "    \n",
    "  <li>\n",
    "    <a href=\"../mssql-mistral-chromadb/\" class=\"inline-flex w-full cursor-pointer items-center justify-between rounded-lg border border-gray-200 bg-white p-5 text-gray-500 hover:bg-gray-100 hover:text-gray-600 peer-checked:border-blue-600 peer-checked:text-blue-600 dark:border-gray-700 dark:bg-gray-800 dark:text-gray-400 dark:hover:bg-gray-700 dark:hover:text-gray-300 dark:peer-checked:text-blue-500\">\n",
    "      <div class=\"block\">\n",
    "        <div class=\"w-full text-lg font-semibold\">Mistral via Mistral API</div>\n",
    "        <small class=\"w-full\">If you have a Mistral API key</small>\n",
    "      </div>\n",
    "    </a>\n",
    "  </li>\n",
    "    \n",
    "  <li>\n",
    "    <a href=\"../mssql-other-llm-chromadb/\" class=\"inline-flex w-full cursor-pointer items-center justify-between rounded-lg border border-gray-200 bg-white p-5 text-gray-500 hover:bg-gray-100 hover:text-gray-600 peer-checked:border-blue-600 peer-checked:text-blue-600 dark:border-gray-700 dark:bg-gray-800 dark:text-gray-400 dark:hover:bg-gray-700 dark:hover:text-gray-300 dark:peer-checked:text-blue-500\">\n",
    "      <div class=\"block\">\n",
    "        <div class=\"w-full text-lg font-semibold\">Other LLM</div>\n",
    "        <small class=\"w-full\">If you have a different LLM model</small>\n",
    "      </div>\n",
    "    </a>\n",
    "  </li>\n",
    "    \n",
    "</ul>\n",
    "    "
   ]
  },
  {
   "cell_type": "markdown",
   "id": "9ea92b3a-4173-5f64-a1dd-f8264a7a7a1f",
   "metadata": {
    "id": "9ea92b3a-4173-5f64-a1dd-f8264a7a7a1f"
   },
   "source": [
    "\n",
    "<h3 class=\"mb-5 text-lg font-medium text-gray-900 dark:text-white\">Where do you want to store the 'training' data?</h3>\n",
    "<ul class=\"grid w-full gap-6 md:grid-cols-2\">\n",
    "    \n",
    "  <li>\n",
    "    <a href=\"../mssql-ollama-vannadb/\" class=\"inline-flex w-full cursor-pointer items-center justify-between rounded-lg border border-gray-200 bg-white p-5 text-gray-500 hover:bg-gray-100 hover:text-gray-600 peer-checked:border-blue-600 peer-checked:text-blue-600 dark:border-gray-700 dark:bg-gray-800 dark:text-gray-400 dark:hover:bg-gray-700 dark:hover:text-gray-300 dark:peer-checked:text-blue-500\">\n",
    "      <div class=\"block\">\n",
    "        <div class=\"w-full text-lg font-semibold\">Vanna Hosted Vector DB (Recommended)</div>\n",
    "        <small class=\"w-full\">Use Vanna.AIs hosted vector database (pgvector) for free. This is usable across machines with no additional setup.</small>\n",
    "      </div>\n",
    "    </a>\n",
    "  </li>\n",
    "    \n",
    "  <li>\n",
    "    <span class=\"inline-flex w-full cursor-pointer items-center justify-between rounded-lg border bg-white p-5 border-blue-600 text-blue-600 dark:bg-gray-800 dark:text-blue-500\">\n",
    "      <div class=\"block\">\n",
    "        <div class=\"w-full text-lg font-semibold\"><span class=\"hidden\">[Selected]</span> ChromaDB</div>\n",
    "        <small class=\"w-full\">Use ChromaDBs open-source vector database for free locally. No additional setup is necessary -- all database files will be created and stored locally.</small>\n",
    "      </div>\n",
    "    </span>\n",
    "  </li>\n",
    "  \n",
    "  <li>\n",
    "    <a href=\"../mssql-ollama-qdrant/\" class=\"inline-flex w-full cursor-pointer items-center justify-between rounded-lg border border-gray-200 bg-white p-5 text-gray-500 hover:bg-gray-100 hover:text-gray-600 peer-checked:border-blue-600 peer-checked:text-blue-600 dark:border-gray-700 dark:bg-gray-800 dark:text-gray-400 dark:hover:bg-gray-700 dark:hover:text-gray-300 dark:peer-checked:text-blue-500\">\n",
    "      <div class=\"block\">\n",
    "        <div class=\"w-full text-lg font-semibold\">Qdrant</div>\n",
    "        <small class=\"w-full\">Use Qdrants open-source vector database</small>\n",
    "      </div>\n",
    "    </a>\n",
    "  </li>\n",
    "    \n",
    "  <li>\n",
    "    <a href=\"../mssql-ollama-marqo/\" class=\"inline-flex w-full cursor-pointer items-center justify-between rounded-lg border border-gray-200 bg-white p-5 text-gray-500 hover:bg-gray-100 hover:text-gray-600 peer-checked:border-blue-600 peer-checked:text-blue-600 dark:border-gray-700 dark:bg-gray-800 dark:text-gray-400 dark:hover:bg-gray-700 dark:hover:text-gray-300 dark:peer-checked:text-blue-500\">\n",
    "      <div class=\"block\">\n",
    "        <div class=\"w-full text-lg font-semibold\">Marqo</div>\n",
    "        <small class=\"w-full\">Use Marqo locally for free. Requires additional setup. Or use their hosted option.</small>\n",
    "      </div>\n",
    "    </a>\n",
    "  </li>\n",
    "    \n",
    "  <li>\n",
    "    <a href=\"../mssql-ollama-other-vectordb/\" class=\"inline-flex w-full cursor-pointer items-center justify-between rounded-lg border border-gray-200 bg-white p-5 text-gray-500 hover:bg-gray-100 hover:text-gray-600 peer-checked:border-blue-600 peer-checked:text-blue-600 dark:border-gray-700 dark:bg-gray-800 dark:text-gray-400 dark:hover:bg-gray-700 dark:hover:text-gray-300 dark:peer-checked:text-blue-500\">\n",
    "      <div class=\"block\">\n",
    "        <div class=\"w-full text-lg font-semibold\">Other VectorDB</div>\n",
    "        <small class=\"w-full\">Use any other vector database. Requires additional setup.</small>\n",
    "      </div>\n",
    "    </a>\n",
    "  </li>\n",
    "    \n",
    "</ul>\n",
    "    "
   ]
  },
  {
   "cell_type": "markdown",
   "id": "ee059407-58ac-50fa-843a-7b876328df13",
   "metadata": {
    "id": "ee059407-58ac-50fa-843a-7b876328df13"
   },
   "source": [
    "## Setup"
   ]
  },
  {
   "cell_type": "code",
   "execution_count": null,
   "id": "80739260-c798-54dd-b7aa-6cf6b14eb977",
   "metadata": {
    "id": "80739260-c798-54dd-b7aa-6cf6b14eb977"
   },
   "outputs": [],
   "source": [
    "%pip install vanna[chromadb,ollama]\n",
    "%pip install -r requirements.txt\n"
   ]
  },
  {
   "cell_type": "code",
   "execution_count": 2,
   "id": "bc0bbf73-fc26-5523-8c11-1cc8811ea1c5",
   "metadata": {
    "id": "bc0bbf73-fc26-5523-8c11-1cc8811ea1c5"
   },
   "outputs": [],
   "source": [
    "from vanna.ollama import Ollama\n",
    "from vanna.chromadb import ChromaDB_VectorStore\n"
   ]
  },
  {
   "cell_type": "code",
   "execution_count": 3,
   "id": "2c96f1ef-23ea-58a3-b86b-5ff4414f2102",
   "metadata": {
    "id": "2c96f1ef-23ea-58a3-b86b-5ff4414f2102"
   },
   "outputs": [],
   "source": [
    "\n",
    "\n",
    "\n",
    "class MyVanna(ChromaDB_VectorStore, Ollama):\n",
    "    def __init__(self, config=None):\n",
    "        ChromaDB_VectorStore.__init__(self, config=config)\n",
    "        Ollama.__init__(self, config=config)\n",
    "\n",
    "vn = MyVanna(config={'model': 'mistral', 'ollama_ip': '172.17.0.3', 'ollama_port': 11434})\n",
    "\n"
   ]
  },
  {
   "cell_type": "markdown",
   "id": "6e3747ce-b76f-5782-bee2-07f1608d5969",
   "metadata": {
    "id": "6e3747ce-b76f-5782-bee2-07f1608d5969"
   },
   "source": [
    "\n",
    "<h3 class=\"mb-5 text-lg font-medium text-gray-900 dark:text-white\">Which database do you want to query?</h3>\n",
    "<ul class=\"grid w-full gap-6 md:grid-cols-2\">\n",
    "    \n",
    "  <li>\n",
    "    <a href=\"../postgres-ollama-chromadb/\" class=\"inline-flex w-full cursor-pointer items-center justify-between rounded-lg border border-gray-200 bg-white p-5 text-gray-500 hover:bg-gray-100 hover:text-gray-600 peer-checked:border-blue-600 peer-checked:text-blue-600 dark:border-gray-700 dark:bg-gray-800 dark:text-gray-400 dark:hover:bg-gray-700 dark:hover:text-gray-300 dark:peer-checked:text-blue-500\">\n",
    "      <div class=\"block\">\n",
    "        <div class=\"w-full text-lg font-semibold\">Postgres</div>\n",
    "        <small class=\"w-full\"></small>\n",
    "      </div>\n",
    "    </a>\n",
    "  </li>\n",
    "    \n",
    "  <li>\n",
    "    <span class=\"inline-flex w-full cursor-pointer items-center justify-between rounded-lg border bg-white p-5 border-blue-600 text-blue-600 dark:bg-gray-800 dark:text-blue-500\">\n",
    "      <div class=\"block\">\n",
    "        <div class=\"w-full text-lg font-semibold\"><span class=\"hidden\">[Selected]</span> Microsoft SQL Server</div>\n",
    "        <small class=\"w-full\"></small>\n",
    "      </div>\n",
    "    </span>\n",
    "  </li>\n",
    "  \n",
    "  <li>\n",
    "    <a href=\"../mysql-ollama-chromadb/\" class=\"inline-flex w-full cursor-pointer items-center justify-between rounded-lg border border-gray-200 bg-white p-5 text-gray-500 hover:bg-gray-100 hover:text-gray-600 peer-checked:border-blue-600 peer-checked:text-blue-600 dark:border-gray-700 dark:bg-gray-800 dark:text-gray-400 dark:hover:bg-gray-700 dark:hover:text-gray-300 dark:peer-checked:text-blue-500\">\n",
    "      <div class=\"block\">\n",
    "        <div class=\"w-full text-lg font-semibold\">MySQL</div>\n",
    "        <small class=\"w-full\"></small>\n",
    "      </div>\n",
    "    </a>\n",
    "  </li>\n",
    "    \n",
    "  <li>\n",
    "    <a href=\"../duckdb-ollama-chromadb/\" class=\"inline-flex w-full cursor-pointer items-center justify-between rounded-lg border border-gray-200 bg-white p-5 text-gray-500 hover:bg-gray-100 hover:text-gray-600 peer-checked:border-blue-600 peer-checked:text-blue-600 dark:border-gray-700 dark:bg-gray-800 dark:text-gray-400 dark:hover:bg-gray-700 dark:hover:text-gray-300 dark:peer-checked:text-blue-500\">\n",
    "      <div class=\"block\">\n",
    "        <div class=\"w-full text-lg font-semibold\">DuckDB</div>\n",
    "        <small class=\"w-full\"></small>\n",
    "      </div>\n",
    "    </a>\n",
    "  </li>\n",
    "    \n",
    "  <li>\n",
    "    <a href=\"../snowflake-ollama-chromadb/\" class=\"inline-flex w-full cursor-pointer items-center justify-between rounded-lg border border-gray-200 bg-white p-5 text-gray-500 hover:bg-gray-100 hover:text-gray-600 peer-checked:border-blue-600 peer-checked:text-blue-600 dark:border-gray-700 dark:bg-gray-800 dark:text-gray-400 dark:hover:bg-gray-700 dark:hover:text-gray-300 dark:peer-checked:text-blue-500\">\n",
    "      <div class=\"block\">\n",
    "        <div class=\"w-full text-lg font-semibold\">Snowflake</div>\n",
    "        <small class=\"w-full\"></small>\n",
    "      </div>\n",
    "    </a>\n",
    "  </li>\n",
    "    \n",
    "  <li>\n",
    "    <a href=\"../bigquery-ollama-chromadb/\" class=\"inline-flex w-full cursor-pointer items-center justify-between rounded-lg border border-gray-200 bg-white p-5 text-gray-500 hover:bg-gray-100 hover:text-gray-600 peer-checked:border-blue-600 peer-checked:text-blue-600 dark:border-gray-700 dark:bg-gray-800 dark:text-gray-400 dark:hover:bg-gray-700 dark:hover:text-gray-300 dark:peer-checked:text-blue-500\">\n",
    "      <div class=\"block\">\n",
    "        <div class=\"w-full text-lg font-semibold\">BigQuery</div>\n",
    "        <small class=\"w-full\"></small>\n",
    "      </div>\n",
    "    </a>\n",
    "  </li>\n",
    "    \n",
    "  <li>\n",
    "    <a href=\"../sqlite-ollama-chromadb/\" class=\"inline-flex w-full cursor-pointer items-center justify-between rounded-lg border border-gray-200 bg-white p-5 text-gray-500 hover:bg-gray-100 hover:text-gray-600 peer-checked:border-blue-600 peer-checked:text-blue-600 dark:border-gray-700 dark:bg-gray-800 dark:text-gray-400 dark:hover:bg-gray-700 dark:hover:text-gray-300 dark:peer-checked:text-blue-500\">\n",
    "      <div class=\"block\">\n",
    "        <div class=\"w-full text-lg font-semibold\">SQLite</div>\n",
    "        <small class=\"w-full\"></small>\n",
    "      </div>\n",
    "    </a>\n",
    "  </li>\n",
    "    \n",
    "  <li>\n",
    "    <a href=\"../oracle-ollama-chromadb/\" class=\"inline-flex w-full cursor-pointer items-center justify-between rounded-lg border border-gray-200 bg-white p-5 text-gray-500 hover:bg-gray-100 hover:text-gray-600 peer-checked:border-blue-600 peer-checked:text-blue-600 dark:border-gray-700 dark:bg-gray-800 dark:text-gray-400 dark:hover:bg-gray-700 dark:hover:text-gray-300 dark:peer-checked:text-blue-500\">\n",
    "      <div class=\"block\">\n",
    "        <div class=\"w-full text-lg font-semibold\">Oracle</div>\n",
    "        <small class=\"w-full\"></small>\n",
    "      </div>\n",
    "    </a>\n",
    "  </li>\n",
    "    \n",
    "  <li>\n",
    "    <a href=\"../other-database-ollama-chromadb/\" class=\"inline-flex w-full cursor-pointer items-center justify-between rounded-lg border border-gray-200 bg-white p-5 text-gray-500 hover:bg-gray-100 hover:text-gray-600 peer-checked:border-blue-600 peer-checked:text-blue-600 dark:border-gray-700 dark:bg-gray-800 dark:text-gray-400 dark:hover:bg-gray-700 dark:hover:text-gray-300 dark:peer-checked:text-blue-500\">\n",
    "      <div class=\"block\">\n",
    "        <div class=\"w-full text-lg font-semibold\">Other Database</div>\n",
    "        <small class=\"w-full\">Use Vanna to generate queries for any SQL database</small>\n",
    "      </div>\n",
    "    </a>\n",
    "  </li>\n",
    "    \n",
    "</ul>\n",
    "    "
   ]
  },
  {
   "cell_type": "code",
   "execution_count": 4,
   "id": "6c8de780-03b7-50ed-91e1-43d77b4df8d8",
   "metadata": {
    "id": "6c8de780-03b7-50ed-91e1-43d77b4df8d8"
   },
   "outputs": [],
   "source": [
    "vn.connect_to_mssql(odbc_conn_str='DRIVER={ODBC Driver 17 for SQL Server};SERVER=localhost;DATABASE=CBO;UID=sa;PWD=P@ssw0rd') # You can use the ODBC connection string here"
   ]
  },
  {
   "cell_type": "markdown",
   "id": "f06c0e89-83f7-5ad1-8f6e-a64cf5bd8e60",
   "metadata": {
    "id": "f06c0e89-83f7-5ad1-8f6e-a64cf5bd8e60"
   },
   "source": [
    "## Training\n",
    "You only need to train once. Do not train again unless you want to add more training data."
   ]
  },
  {
   "cell_type": "code",
   "execution_count": null,
   "id": "9edf9644",
   "metadata": {},
   "outputs": [],
   "source": [
    "vn.train(documentation=\"\"\"\n",
    "        this document describes the 'InterestBankLendingRates'  table in the database.\n",
    "         \n",
    "        **Table:** InterestBankLendingRates\n",
    "         \n",
    "        **Purpose:** InterestBankLendingRates table is used to store and manage Interest Bank Lending Rates.\n",
    "     \n",
    " \n",
    "        **Notes:**\n",
    "        \n",
    "        * The 'Period' column indicates the date when interset rate applied.\n",
    "        * The 'Amount' column is the amount in omani rial .\n",
    "        * The '[InterestRate]' column indicates the  interest rate.\n",
    "          \n",
    "        \n",
    "         \"\"\")"
   ]
  },
  {
   "cell_type": "code",
   "execution_count": 62,
   "id": "59fcb3b1-4434-583d-82be-ed8e9b04d699",
   "metadata": {
    "id": "59fcb3b1-4434-583d-82be-ed8e9b04d699"
   },
   "outputs": [
    {
     "data": {
      "text/plain": [
       "True"
      ]
     },
     "execution_count": 62,
     "metadata": {},
     "output_type": "execute_result"
    }
   ],
   "source": [
    "# At any time you can inspect what training data the package is able to reference\n",
    "# training_data = vn.get_training_data()\n",
    "# #training_data\n",
    "\n",
    "# print(training_data.content)\n",
    "vn.remove_collection(\"documentation\")\n"
   ]
  },
  {
   "cell_type": "markdown",
   "id": "bf2fc121-a3ab-5a2e-95b0-383271e82d5f",
   "metadata": {
    "id": "bf2fc121-a3ab-5a2e-95b0-383271e82d5f"
   },
   "source": [
    "## Asking the AI\n",
    "Whenever you ask a new question, it will find the 10 most relevant pieces of training data and use it as part of the LLM prompt to generate the SQL."
   ]
  },
  {
   "cell_type": "markdown",
   "id": "8c49dd68-3bc6-5098-93f1-2d4d8617badb",
   "metadata": {
    "id": "8c49dd68-3bc6-5098-93f1-2d4d8617badb"
   },
   "source": [
    "## Launch the User Interface\n",
    "![vanna-flask](https://vanna.ai/blog/img/vanna-flask.gif)"
   ]
  },
  {
   "cell_type": "code",
   "execution_count": null,
   "id": "40b8edef",
   "metadata": {},
   "outputs": [
    {
     "data": {
      "text/plain": [
       "'e5c0bc0e-1557-553a-9a1f-571206ff50d4-sql'"
      ]
     },
     "execution_count": 6,
     "metadata": {},
     "output_type": "execute_result"
    }
   ],
   "source": [
    "vn.train(\n",
    "    question=\"list all Interest Bank Lending Rates?\", \n",
    "    sql=\"SELECT * FROM InterestBankLendingRates\"\n",
    ")\n",
    "\n"
   ]
  },
  {
   "cell_type": "code",
   "execution_count": null,
   "id": "b87d140b-ef56-5795-b489-46bb11d01459",
   "metadata": {
    "id": "b87d140b-ef56-5795-b489-46bb11d01459"
   },
   "outputs": [],
   "source": [
    "from vanna.flask import VannaFlaskApp\n",
    "app = VannaFlaskApp(vn,allow_llm_to_see_data=True,title=\"Welcome to CBO.AI\",debug=False,logo=\"./assets/logo.png\")\n",
    "app.run()"
   ]
  },
  {
   "cell_type": "markdown",
   "id": "29793859-c3c8-50da-994a-c8f6348d6730",
   "metadata": {
    "id": "29793859-c3c8-50da-994a-c8f6348d6730"
   },
   "source": [
    "## Next Steps\n",
    "Using Vanna via Jupyter notebooks is great for getting started but check out additional customizable interfaces like the\n",
    "- [Streamlit app](https://github.com/vanna-ai/vanna-streamlit)\n",
    "- [Flask app](https://github.com/vanna-ai/vanna-flask)\n",
    "- [Slackbot](https://github.com/vanna-ai/vanna-slack)\n"
   ]
  }
 ],
 "metadata": {
  "colab": {
   "provenance": []
  },
  "kernelspec": {
   "display_name": "Python 3",
   "language": "python",
   "name": "python3"
  },
  "language_info": {
   "codemirror_mode": {
    "name": "ipython",
    "version": 3
   },
   "file_extension": ".py",
   "mimetype": "text/x-python",
   "name": "python",
   "nbconvert_exporter": "python",
   "pygments_lexer": "ipython3",
   "version": "3.12.5"
  }
 },
 "nbformat": 4,
 "nbformat_minor": 5
}
